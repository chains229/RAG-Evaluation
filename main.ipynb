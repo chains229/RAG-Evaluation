{
 "cells": [
  {
   "cell_type": "markdown",
   "metadata": {},
   "source": [
    "# **Evaluating RAG systems following Revised Bloom's Taxonomy**"
   ]
  },
  {
   "cell_type": "markdown",
   "metadata": {},
   "source": [
    "# Prepare Environment"
   ]
  },
  {
   "cell_type": "code",
   "execution_count": null,
   "metadata": {
    "vscode": {
     "languageId": "shellscript"
    }
   },
   "outputs": [],
   "source": [
    "# Clone Github repo\n",
    "!git clone https://github.com/chains229/RAG-Evaluation"
   ]
  },
  {
   "cell_type": "code",
   "execution_count": null,
   "metadata": {
    "vscode": {
     "languageId": "shellscript"
    }
   },
   "outputs": [],
   "source": [
    "cd /kaggle/working/RAG-Evaluation"
   ]
  },
  {
   "cell_type": "code",
   "execution_count": null,
   "metadata": {
    "vscode": {
     "languageId": "shellscript"
    }
   },
   "outputs": [],
   "source": [
    "# Install required libraries\n",
    "!pip install -r requirements.txt"
   ]
  },
  {
   "cell_type": "code",
   "execution_count": null,
   "metadata": {},
   "outputs": [],
   "source": [
    "# Prepare HuggingFace token\n",
    "import os\n",
    "os.environ['HUGGINGFACE_TOKEN'] = 'your_huggingface_token'\n",
    "from huggingface_hub import login\n",
    "\n",
    "# Log in to Hugging Face using the token\n",
    "login(token=os.getenv('HUGGINGFACE_TOKEN'))"
   ]
  },
  {
   "cell_type": "code",
   "execution_count": null,
   "metadata": {},
   "outputs": [],
   "source": [
    "# Prepare API key to Gemini\n",
    "import google.generativeai as genai\n",
    "os.environ[\"GOOGLE_API_KEY\"] = \"your_api_key\"\n",
    "genai.configure(api_key=os.environ[\"GOOGLE_API_KEY\"])"
   ]
  },
  {
   "cell_type": "markdown",
   "metadata": {},
   "source": [
    "# Prepare Data"
   ]
  },
  {
   "cell_type": "code",
   "execution_count": null,
   "metadata": {},
   "outputs": [],
   "source": [
    "'''\n",
    "IN CASE YOU DON'T HAVE THE DATABASE FOLDER, run this to create the knowledge database.\n",
    "Otherwise, skip this cell and move to the one below.\n",
    "You will have to modify all code in this repo if you use different data. Also this Kaggle dataset is currently private.\n",
    "'''\n",
    "\n",
    "from database.embedding import create_faiss_index\n",
    "import os\n",
    "\n",
    "input_csvs = [\"/kaggle/input/virag-bloom-v1/single_doc_07_v3.csv\"]\n",
    "input_pdf_folders = [\"/kaggle/input/virag-bloom-v1/anpc849-st-viragbloom-gui-v2-main/anpc849-st-viragbloom-gui-v2-main/law_domain_part1\",\n",
    "              \"/kaggle/input/virag-bloom-v1/anpc849-st-viragbloom-gui-v2-main/anpc849-st-viragbloom-gui-v2-main/law_domain_part2\"]\n",
    "input_pdfs = []\n",
    "for i in input_pdf_folders:\n",
    "    input_pdfs.extend([os.path.join(i, f) for f in os.listdir(i)])\n",
    "model = \"intfloat/multilingual-e5-base\"\n",
    "save_path = \"/kaggle/input/virag-bloom-v1/full_document.txt\"\n",
    "chunk_size = 256\n",
    "chunk_overlap = 100\n",
    "\n",
    "create_faiss_index(input_csvs, input_pdfs,  chunk_size=chunk_size, chunk_overlap=chunk_overlap, saved_path=save_path,model=model, output_folder = \"Database\")"
   ]
  },
  {
   "cell_type": "markdown",
   "metadata": {},
   "source": [
    "# Evaluation"
   ]
  },
  {
   "cell_type": "code",
   "execution_count": null,
   "metadata": {
    "vscode": {
     "languageId": "shellscript"
    }
   },
   "outputs": [],
   "source": [
    "!python3 main.py \\\n",
    "    --model_name your_huggingface_model \\\n",
    "    --data_path path_to_your_csv_file_data \\\n",
    "    --faiss_folder path_to_your_faiss_folder \\\n",
    "    --level level_to_evaluate \\\n",
    "    --demo true"
   ]
  }
 ],
 "metadata": {
  "language_info": {
   "name": "python"
  }
 },
 "nbformat": 4,
 "nbformat_minor": 2
}
